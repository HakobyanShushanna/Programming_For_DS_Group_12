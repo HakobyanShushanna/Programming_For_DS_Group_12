{
 "cells": [
  {
   "cell_type": "code",
   "execution_count": 26,
   "id": "29b130d3-87cd-4f5a-96f8-d8c2deb0abd1",
   "metadata": {},
   "outputs": [],
   "source": [
    "import pandas as pd"
   ]
  },
  {
   "cell_type": "code",
   "execution_count": 27,
   "id": "8d2c81b4-f7a2-476a-a87f-13ca28f2c53c",
   "metadata": {},
   "outputs": [],
   "source": [
    "final_dataset = pd.read_csv('/Users/sarrgsiaan/Desktop/Project DS/finaldata.csv')"
   ]
  },
  {
   "cell_type": "code",
   "execution_count": 28,
   "id": "606aca23-fd57-48eb-9069-5cceb1ed29a2",
   "metadata": {},
   "outputs": [
    {
     "data": {
      "text/plain": [
       "Unnamed: 0            0\n",
       "artist                0\n",
       "url_spotify           0\n",
       "title                 0\n",
       "album                 0\n",
       "album_type            0\n",
       "uri                   0\n",
       "danceability          0\n",
       "energy                0\n",
       "key                   0\n",
       "loudness              0\n",
       "speechiness           0\n",
       "acousticness          0\n",
       "instrumentalness      0\n",
       "liveness              0\n",
       "valence               0\n",
       "tempo                 0\n",
       "duration_ms           0\n",
       "url_youtube          83\n",
       "full_title           83\n",
       "channel              83\n",
       "views_x              83\n",
       "likes               128\n",
       "comments            138\n",
       "description         262\n",
       "licensed             83\n",
       "official_video       83\n",
       "stream              156\n",
       "tag                   0\n",
       "year                  0\n",
       "views_y               0\n",
       "features              0\n",
       "lyrics                0\n",
       "id                    0\n",
       "dtype: int64"
      ]
     },
     "execution_count": 28,
     "metadata": {},
     "output_type": "execute_result"
    }
   ],
   "source": [
    "missing_values = final_dataset.isnull().sum()\n",
    "missing_values"
   ]
  },
  {
   "cell_type": "code",
   "execution_count": 29,
   "id": "ca775ccf-0dcc-4380-a3df-1a8e780b3783",
   "metadata": {},
   "outputs": [],
   "source": [
    "final_dataset.drop(columns=['description'], inplace=True)"
   ]
  },
  {
   "cell_type": "code",
   "execution_count": 30,
   "id": "1702326d-2a87-410e-a89a-67a2d8ef40a4",
   "metadata": {},
   "outputs": [],
   "source": [
    "final_dataset.drop(columns=['url_youtube'], inplace=True)"
   ]
  },
  {
   "cell_type": "code",
   "execution_count": 31,
   "id": "12aa2521-3d07-4608-84d3-49b3dd44587c",
   "metadata": {},
   "outputs": [],
   "source": [
    "final_dataset.dropna(subset=['channel'], inplace=True)"
   ]
  },
  {
   "cell_type": "code",
   "execution_count": 32,
   "id": "b7412e78-9414-4ed0-b077-68bdffb17ec0",
   "metadata": {},
   "outputs": [],
   "source": [
    "final_dataset.dropna(subset=['stream'], inplace=True)"
   ]
  },
  {
   "cell_type": "code",
   "execution_count": 33,
   "id": "c9686ea9-1e6c-48a6-bf8a-03350bf7a714",
   "metadata": {},
   "outputs": [
    {
     "data": {
      "text/plain": [
       "Unnamed: 0           0\n",
       "artist               0\n",
       "url_spotify          0\n",
       "title                0\n",
       "album                0\n",
       "album_type           0\n",
       "uri                  0\n",
       "danceability         0\n",
       "energy               0\n",
       "key                  0\n",
       "loudness             0\n",
       "speechiness          0\n",
       "acousticness         0\n",
       "instrumentalness     0\n",
       "liveness             0\n",
       "valence              0\n",
       "tempo                0\n",
       "duration_ms          0\n",
       "full_title           0\n",
       "channel              0\n",
       "views_x              0\n",
       "likes               43\n",
       "comments            54\n",
       "licensed             0\n",
       "official_video       0\n",
       "stream               0\n",
       "tag                  0\n",
       "year                 0\n",
       "views_y              0\n",
       "features             0\n",
       "lyrics               0\n",
       "id                   0\n",
       "dtype: int64"
      ]
     },
     "execution_count": 33,
     "metadata": {},
     "output_type": "execute_result"
    }
   ],
   "source": [
    "missing_values = final_dataset.isnull().sum()\n",
    "missing_values"
   ]
  },
  {
   "cell_type": "code",
   "execution_count": 34,
   "id": "64b35d65-a22b-44f0-94c5-855d385d128f",
   "metadata": {},
   "outputs": [],
   "source": [
    "mean_likes = final_dataset['likes'].mean()\n",
    "final_dataset['likes'] = final_dataset['likes'].fillna(mean_likes)"
   ]
  },
  {
   "cell_type": "code",
   "execution_count": 35,
   "id": "1942c648-ca6a-47af-8609-5b407dac006f",
   "metadata": {},
   "outputs": [],
   "source": [
    "mean_likes = final_dataset['comments'].mean()\n",
    "final_dataset['comments'] = final_dataset['comments'].fillna(mean_likes)"
   ]
  },
  {
   "cell_type": "code",
   "execution_count": 36,
   "id": "e66d0e1a-db08-4e6f-a815-42cecce494f4",
   "metadata": {},
   "outputs": [
    {
     "data": {
      "text/plain": [
       "Unnamed: 0          0\n",
       "artist              0\n",
       "url_spotify         0\n",
       "title               0\n",
       "album               0\n",
       "album_type          0\n",
       "uri                 0\n",
       "danceability        0\n",
       "energy              0\n",
       "key                 0\n",
       "loudness            0\n",
       "speechiness         0\n",
       "acousticness        0\n",
       "instrumentalness    0\n",
       "liveness            0\n",
       "valence             0\n",
       "tempo               0\n",
       "duration_ms         0\n",
       "full_title          0\n",
       "channel             0\n",
       "views_x             0\n",
       "likes               0\n",
       "comments            0\n",
       "licensed            0\n",
       "official_video      0\n",
       "stream              0\n",
       "tag                 0\n",
       "year                0\n",
       "views_y             0\n",
       "features            0\n",
       "lyrics              0\n",
       "id                  0\n",
       "dtype: int64"
      ]
     },
     "execution_count": 36,
     "metadata": {},
     "output_type": "execute_result"
    }
   ],
   "source": [
    "missing_values = final_dataset.isnull().sum()\n",
    "missing_values"
   ]
  },
  {
   "cell_type": "code",
   "execution_count": 37,
   "id": "481ddde5-5473-401e-b157-0d1dd91fb99d",
   "metadata": {},
   "outputs": [
    {
     "data": {
      "text/html": [
       "<div>\n",
       "<style scoped>\n",
       "    .dataframe tbody tr th:only-of-type {\n",
       "        vertical-align: middle;\n",
       "    }\n",
       "\n",
       "    .dataframe tbody tr th {\n",
       "        vertical-align: top;\n",
       "    }\n",
       "\n",
       "    .dataframe thead th {\n",
       "        text-align: right;\n",
       "    }\n",
       "</style>\n",
       "<table border=\"1\" class=\"dataframe\">\n",
       "  <thead>\n",
       "    <tr style=\"text-align: right;\">\n",
       "      <th></th>\n",
       "      <th>Unnamed: 0</th>\n",
       "      <th>artist</th>\n",
       "      <th>url_spotify</th>\n",
       "      <th>title</th>\n",
       "      <th>album</th>\n",
       "      <th>album_type</th>\n",
       "      <th>uri</th>\n",
       "      <th>danceability</th>\n",
       "      <th>energy</th>\n",
       "      <th>key</th>\n",
       "      <th>...</th>\n",
       "      <th>comments</th>\n",
       "      <th>licensed</th>\n",
       "      <th>official_video</th>\n",
       "      <th>stream</th>\n",
       "      <th>tag</th>\n",
       "      <th>year</th>\n",
       "      <th>views_y</th>\n",
       "      <th>features</th>\n",
       "      <th>lyrics</th>\n",
       "      <th>id</th>\n",
       "    </tr>\n",
       "  </thead>\n",
       "  <tbody>\n",
       "  </tbody>\n",
       "</table>\n",
       "<p>0 rows × 32 columns</p>\n",
       "</div>"
      ],
      "text/plain": [
       "Empty DataFrame\n",
       "Columns: [Unnamed: 0, artist, url_spotify, title, album, album_type, uri, danceability, energy, key, loudness, speechiness, acousticness, instrumentalness, liveness, valence, tempo, duration_ms, full_title, channel, views_x, likes, comments, licensed, official_video, stream, tag, year, views_y, features, lyrics, id]\n",
       "Index: []\n",
       "\n",
       "[0 rows x 32 columns]"
      ]
     },
     "execution_count": 37,
     "metadata": {},
     "output_type": "execute_result"
    }
   ],
   "source": [
    "duplicates = final_dataset[final_dataset.duplicated()]\n",
    "duplicates"
   ]
  },
  {
   "cell_type": "code",
   "execution_count": 38,
   "id": "239ce460-504a-47b3-912f-9c4282b8ae6c",
   "metadata": {},
   "outputs": [],
   "source": [
    "final_dataset.drop(columns=['url_spotify'], inplace=True)"
   ]
  },
  {
   "cell_type": "code",
   "execution_count": 40,
   "id": "1226af91-08ae-409a-b3e0-02a00ac7e579",
   "metadata": {},
   "outputs": [
    {
     "name": "stdout",
     "output_type": "stream",
     "text": [
      "Index(['Unnamed: 0', 'artist', 'title', 'album', 'album_type', 'uri',\n",
      "       'danceability', 'energy', 'key', 'loudness', 'speechiness',\n",
      "       'acousticness', 'instrumentalness', 'liveness', 'valence', 'tempo',\n",
      "       'duration_ms', 'full_title', 'channel', 'views_x', 'likes', 'comments',\n",
      "       'licensed', 'official_video', 'stream', 'tag', 'year', 'views_y',\n",
      "       'features', 'lyrics', 'id'],\n",
      "      dtype='object')\n"
     ]
    }
   ],
   "source": [
    "print(final_dataset.columns)"
   ]
  },
  {
   "cell_type": "code",
   "execution_count": 41,
   "id": "17c506cd-f980-417b-9851-72db8991a3dd",
   "metadata": {},
   "outputs": [],
   "source": [
    "final_dataset.drop(columns=['Unnamed: 0'], inplace=True)"
   ]
  },
  {
   "cell_type": "code",
   "execution_count": 44,
   "id": "3e9e3cdd-3c1a-4805-8e07-86814fdf2567",
   "metadata": {},
   "outputs": [
    {
     "name": "stdout",
     "output_type": "stream",
     "text": [
      "Index(['artist', 'title', 'album', 'album_type', 'uri', 'danceability',\n",
      "       'energy', 'key', 'loudness', 'speechiness', 'acousticness',\n",
      "       'instrumentalness', 'liveness', 'valence', 'tempo', 'duration_ms',\n",
      "       'full_title', 'channel', 'views_x', 'likes', 'comments', 'licensed',\n",
      "       'official_video', 'stream', 'tag', 'year', 'views_y', 'features',\n",
      "       'lyrics', 'id'],\n",
      "      dtype='object')\n"
     ]
    }
   ],
   "source": [
    "print(final_dataset.columns)"
   ]
  },
  {
   "cell_type": "code",
   "execution_count": 45,
   "id": "acf71dea-932b-441b-8dfd-b29b145ed61f",
   "metadata": {},
   "outputs": [
    {
     "data": {
      "text/html": [
       "<div>\n",
       "<style scoped>\n",
       "    .dataframe tbody tr th:only-of-type {\n",
       "        vertical-align: middle;\n",
       "    }\n",
       "\n",
       "    .dataframe tbody tr th {\n",
       "        vertical-align: top;\n",
       "    }\n",
       "\n",
       "    .dataframe thead th {\n",
       "        text-align: right;\n",
       "    }\n",
       "</style>\n",
       "<table border=\"1\" class=\"dataframe\">\n",
       "  <thead>\n",
       "    <tr style=\"text-align: right;\">\n",
       "      <th></th>\n",
       "      <th>artist</th>\n",
       "      <th>title</th>\n",
       "      <th>album</th>\n",
       "      <th>album_type</th>\n",
       "      <th>uri</th>\n",
       "      <th>danceability</th>\n",
       "      <th>energy</th>\n",
       "      <th>key</th>\n",
       "      <th>loudness</th>\n",
       "      <th>speechiness</th>\n",
       "      <th>...</th>\n",
       "      <th>comments</th>\n",
       "      <th>licensed</th>\n",
       "      <th>official_video</th>\n",
       "      <th>stream</th>\n",
       "      <th>tag</th>\n",
       "      <th>year</th>\n",
       "      <th>views_y</th>\n",
       "      <th>features</th>\n",
       "      <th>lyrics</th>\n",
       "      <th>id</th>\n",
       "    </tr>\n",
       "  </thead>\n",
       "  <tbody>\n",
       "    <tr>\n",
       "      <th>0</th>\n",
       "      <td>Gorillaz</td>\n",
       "      <td>Feel Good Inc.</td>\n",
       "      <td>Demon Days</td>\n",
       "      <td>album</td>\n",
       "      <td>spotify:track:0d28khcov6AiegSCpG5TuT</td>\n",
       "      <td>0.818</td>\n",
       "      <td>0.705</td>\n",
       "      <td>6.0</td>\n",
       "      <td>-6.679</td>\n",
       "      <td>0.1770</td>\n",
       "      <td>...</td>\n",
       "      <td>169907.0</td>\n",
       "      <td>True</td>\n",
       "      <td>True</td>\n",
       "      <td>1.040235e+09</td>\n",
       "      <td>rap</td>\n",
       "      <td>2005</td>\n",
       "      <td>2017092</td>\n",
       "      <td>{\"De La Soul\"}</td>\n",
       "      <td>[Intro: Maseo &amp; 2-D]\\nHahahahahahahahahahahaha...</td>\n",
       "      <td>21569</td>\n",
       "    </tr>\n",
       "    <tr>\n",
       "      <th>1</th>\n",
       "      <td>Gorillaz</td>\n",
       "      <td>Rhinestone Eyes</td>\n",
       "      <td>Plastic Beach</td>\n",
       "      <td>album</td>\n",
       "      <td>spotify:track:1foMv2HQwfQ2vntFf9HFeG</td>\n",
       "      <td>0.676</td>\n",
       "      <td>0.703</td>\n",
       "      <td>8.0</td>\n",
       "      <td>-5.815</td>\n",
       "      <td>0.0302</td>\n",
       "      <td>...</td>\n",
       "      <td>31003.0</td>\n",
       "      <td>True</td>\n",
       "      <td>True</td>\n",
       "      <td>3.100837e+08</td>\n",
       "      <td>pop</td>\n",
       "      <td>2010</td>\n",
       "      <td>364585</td>\n",
       "      <td>{}</td>\n",
       "      <td>[Verse 1]\\nI'm a scary gargoyle on a tower\\nTh...</td>\n",
       "      <td>76393</td>\n",
       "    </tr>\n",
       "    <tr>\n",
       "      <th>2</th>\n",
       "      <td>Gorillaz</td>\n",
       "      <td>On Melancholy Hill</td>\n",
       "      <td>Plastic Beach</td>\n",
       "      <td>album</td>\n",
       "      <td>spotify:track:0q6LuUqGLUiCPP1cbdwFs3</td>\n",
       "      <td>0.689</td>\n",
       "      <td>0.739</td>\n",
       "      <td>2.0</td>\n",
       "      <td>-5.810</td>\n",
       "      <td>0.0260</td>\n",
       "      <td>...</td>\n",
       "      <td>55229.0</td>\n",
       "      <td>True</td>\n",
       "      <td>True</td>\n",
       "      <td>4.346636e+08</td>\n",
       "      <td>pop</td>\n",
       "      <td>2010</td>\n",
       "      <td>475990</td>\n",
       "      <td>{}</td>\n",
       "      <td>[Verse 1: 2-D]\\nUp on Melancholy Hill, there's...</td>\n",
       "      <td>53533</td>\n",
       "    </tr>\n",
       "    <tr>\n",
       "      <th>3</th>\n",
       "      <td>Gorillaz</td>\n",
       "      <td>Clint Eastwood</td>\n",
       "      <td>Gorillaz</td>\n",
       "      <td>album</td>\n",
       "      <td>spotify:track:7yMiX7n9SBvadzox8T5jzT</td>\n",
       "      <td>0.663</td>\n",
       "      <td>0.694</td>\n",
       "      <td>10.0</td>\n",
       "      <td>-8.627</td>\n",
       "      <td>0.1710</td>\n",
       "      <td>...</td>\n",
       "      <td>155930.0</td>\n",
       "      <td>True</td>\n",
       "      <td>True</td>\n",
       "      <td>6.172597e+08</td>\n",
       "      <td>rock</td>\n",
       "      <td>2001</td>\n",
       "      <td>1316631</td>\n",
       "      <td>{\"Del The Funky Homosapien\"}</td>\n",
       "      <td>[Intro: 2-D]\\nHoo-hoo-hoo-hoo-hoo\\n\\n[Chorus: ...</td>\n",
       "      <td>1698</td>\n",
       "    </tr>\n",
       "    <tr>\n",
       "      <th>4</th>\n",
       "      <td>Gorillaz</td>\n",
       "      <td>Dare</td>\n",
       "      <td>Demon Days</td>\n",
       "      <td>album</td>\n",
       "      <td>spotify:track:4Hff1IjRbLGeLgFgxvHflk</td>\n",
       "      <td>0.760</td>\n",
       "      <td>0.891</td>\n",
       "      <td>11.0</td>\n",
       "      <td>-5.852</td>\n",
       "      <td>0.0372</td>\n",
       "      <td>...</td>\n",
       "      <td>72008.0</td>\n",
       "      <td>True</td>\n",
       "      <td>True</td>\n",
       "      <td>3.238503e+08</td>\n",
       "      <td>pop</td>\n",
       "      <td>2005</td>\n",
       "      <td>341023</td>\n",
       "      <td>{\"Shaun Ryder\"}</td>\n",
       "      <td>[Intro: Shaun Ryder &amp; Noodle]\\nIt's coming up,...</td>\n",
       "      <td>21566</td>\n",
       "    </tr>\n",
       "  </tbody>\n",
       "</table>\n",
       "<p>5 rows × 30 columns</p>\n",
       "</div>"
      ],
      "text/plain": [
       "     artist               title          album album_type  \\\n",
       "0  Gorillaz      Feel Good Inc.     Demon Days      album   \n",
       "1  Gorillaz     Rhinestone Eyes  Plastic Beach      album   \n",
       "2  Gorillaz  On Melancholy Hill  Plastic Beach      album   \n",
       "3  Gorillaz      Clint Eastwood       Gorillaz      album   \n",
       "4  Gorillaz                Dare     Demon Days      album   \n",
       "\n",
       "                                    uri  danceability  energy   key  loudness  \\\n",
       "0  spotify:track:0d28khcov6AiegSCpG5TuT         0.818   0.705   6.0    -6.679   \n",
       "1  spotify:track:1foMv2HQwfQ2vntFf9HFeG         0.676   0.703   8.0    -5.815   \n",
       "2  spotify:track:0q6LuUqGLUiCPP1cbdwFs3         0.689   0.739   2.0    -5.810   \n",
       "3  spotify:track:7yMiX7n9SBvadzox8T5jzT         0.663   0.694  10.0    -8.627   \n",
       "4  spotify:track:4Hff1IjRbLGeLgFgxvHflk         0.760   0.891  11.0    -5.852   \n",
       "\n",
       "   speechiness  ...  comments  licensed  official_video        stream   tag  \\\n",
       "0       0.1770  ...  169907.0      True            True  1.040235e+09   rap   \n",
       "1       0.0302  ...   31003.0      True            True  3.100837e+08   pop   \n",
       "2       0.0260  ...   55229.0      True            True  4.346636e+08   pop   \n",
       "3       0.1710  ...  155930.0      True            True  6.172597e+08  rock   \n",
       "4       0.0372  ...   72008.0      True            True  3.238503e+08   pop   \n",
       "\n",
       "   year  views_y                      features  \\\n",
       "0  2005  2017092                {\"De La Soul\"}   \n",
       "1  2010   364585                            {}   \n",
       "2  2010   475990                            {}   \n",
       "3  2001  1316631  {\"Del The Funky Homosapien\"}   \n",
       "4  2005   341023               {\"Shaun Ryder\"}   \n",
       "\n",
       "                                              lyrics     id  \n",
       "0  [Intro: Maseo & 2-D]\\nHahahahahahahahahahahaha...  21569  \n",
       "1  [Verse 1]\\nI'm a scary gargoyle on a tower\\nTh...  76393  \n",
       "2  [Verse 1: 2-D]\\nUp on Melancholy Hill, there's...  53533  \n",
       "3  [Intro: 2-D]\\nHoo-hoo-hoo-hoo-hoo\\n\\n[Chorus: ...   1698  \n",
       "4  [Intro: Shaun Ryder & Noodle]\\nIt's coming up,...  21566  \n",
       "\n",
       "[5 rows x 30 columns]"
      ]
     },
     "execution_count": 45,
     "metadata": {},
     "output_type": "execute_result"
    }
   ],
   "source": [
    "final_dataset['artist'] = final_dataset['artist'].apply(lambda x: x.lower().title())\n",
    "final_dataset['title'] = final_dataset['title'].apply(lambda x: x.lower().title())\n",
    "final_dataset.head()\n"
   ]
  },
  {
   "cell_type": "code",
   "execution_count": 49,
   "id": "a0e66ef1-bb64-48a9-8ad0-01b540d7d6a5",
   "metadata": {},
   "outputs": [],
   "source": [
    "final_dataset.to_csv('cleaned_final_dataset.csv', index=False)"
   ]
  },
  {
   "cell_type": "code",
   "execution_count": null,
   "id": "26c6dc8e-06a0-4e9d-90bf-162e4342d550",
   "metadata": {},
   "outputs": [],
   "source": []
  }
 ],
 "metadata": {
  "kernelspec": {
   "display_name": "Python 3 (ipykernel)",
   "language": "python",
   "name": "python3"
  },
  "language_info": {
   "codemirror_mode": {
    "name": "ipython",
    "version": 3
   },
   "file_extension": ".py",
   "mimetype": "text/x-python",
   "name": "python",
   "nbconvert_exporter": "python",
   "pygments_lexer": "ipython3",
   "version": "3.12.1"
  }
 },
 "nbformat": 4,
 "nbformat_minor": 5
}
