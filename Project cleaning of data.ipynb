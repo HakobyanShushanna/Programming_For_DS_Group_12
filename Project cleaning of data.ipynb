{
 "cells": [
  {
   "cell_type": "code",
   "execution_count": 26,
   "id": "29b130d3-87cd-4f5a-96f8-d8c2deb0abd1",
   "metadata": {},
   "outputs": [],
   "source": [
    "import pandas as pd"
   ]
  },
  {
   "cell_type": "code",
   "execution_count": 27,
   "id": "8d2c81b4-f7a2-476a-a87f-13ca28f2c53c",
   "metadata": {},
   "outputs": [],
   "source": [
    "final_dataset = pd.read_csv('/Users/sarrgsiaan/Desktop/Project DS/finaldata.csv')"
   ]
  },
  {
   "cell_type": "code",
   "execution_count": 28,
   "id": "606aca23-fd57-48eb-9069-5cceb1ed29a2",
   "metadata": {},
   "outputs": [
    {
     "data": {
      "text/plain": [
       "Unnamed: 0            0\n",
       "artist                0\n",
       "url_spotify           0\n",
       "title                 0\n",
       "album                 0\n",
       "album_type            0\n",
       "uri                   0\n",
       "danceability          0\n",
       "energy                0\n",
       "key                   0\n",
       "loudness              0\n",
       "speechiness           0\n",
       "acousticness          0\n",
       "instrumentalness      0\n",
       "liveness              0\n",
       "valence               0\n",
       "tempo                 0\n",
       "duration_ms           0\n",
       "url_youtube          83\n",
       "full_title           83\n",
       "channel              83\n",
       "views_x              83\n",
       "likes               128\n",
       "comments            138\n",
       "description         262\n",
       "licensed             83\n",
       "official_video       83\n",
       "stream              156\n",
       "tag                   0\n",
       "year                  0\n",
       "views_y               0\n",
       "features              0\n",
       "lyrics                0\n",
       "id                    0\n",
       "dtype: int64"
      ]
     },
     "execution_count": 28,
     "metadata": {},
     "output_type": "execute_result"
    }
   ],
   "source": [
    "missing_values = final_dataset.isnull().sum()\n",
    "missing_values"
   ]
  },
  {
   "cell_type": "code",
   "execution_count": 29,
   "id": "ca775ccf-0dcc-4380-a3df-1a8e780b3783",
   "metadata": {},
   "outputs": [],
   "source": [
    "final_dataset.drop(columns=['description'], inplace=True)"
   ]
  },
  {
   "cell_type": "code",
   "execution_count": 30,
   "id": "1702326d-2a87-410e-a89a-67a2d8ef40a4",
   "metadata": {},
   "outputs": [],
   "source": [
    "final_dataset.drop(columns=['url_youtube'], inplace=True)"
   ]
  },
  {
   "cell_type": "code",
   "execution_count": 31,
   "id": "12aa2521-3d07-4608-84d3-49b3dd44587c",
   "metadata": {},
   "outputs": [],
   "source": [
    "final_dataset.dropna(subset=['channel'], inplace=True)"
   ]
  },
  {
   "cell_type": "code",
   "execution_count": 32,
   "id": "b7412e78-9414-4ed0-b077-68bdffb17ec0",
   "metadata": {},
   "outputs": [],
   "source": [
    "final_dataset.dropna(subset=['stream'], inplace=True)"
   ]
  },
  {
   "cell_type": "code",
   "execution_count": 33,
   "id": "c9686ea9-1e6c-48a6-bf8a-03350bf7a714",
   "metadata": {},
   "outputs": [
    {
     "data": {
      "text/plain": [
       "Unnamed: 0           0\n",
       "artist               0\n",
       "url_spotify          0\n",
       "title                0\n",
       "album                0\n",
       "album_type           0\n",
       "uri                  0\n",
       "danceability         0\n",
       "energy               0\n",
       "key                  0\n",
       "loudness             0\n",
       "speechiness          0\n",
       "acousticness         0\n",
       "instrumentalness     0\n",
       "liveness             0\n",
       "valence              0\n",
       "tempo                0\n",
       "duration_ms          0\n",
       "full_title           0\n",
       "channel              0\n",
       "views_x              0\n",
       "likes               43\n",
       "comments            54\n",
       "licensed             0\n",
       "official_video       0\n",
       "stream               0\n",
       "tag                  0\n",
       "year                 0\n",
       "views_y              0\n",
       "features             0\n",
       "lyrics               0\n",
       "id                   0\n",
       "dtype: int64"
      ]
     },
     "execution_count": 33,
     "metadata": {},
     "output_type": "execute_result"
    }
   ],
   "source": [
    "missing_values = final_dataset.isnull().sum()\n",
    "missing_values"
   ]
  },
  {
   "cell_type": "code",
   "execution_count": 34,
   "id": "64b35d65-a22b-44f0-94c5-855d385d128f",
   "metadata": {},
   "outputs": [],
   "source": [
    "mean_likes = final_dataset['likes'].mean()\n",
    "final_dataset['likes'] = final_dataset['likes'].fillna(mean_likes)"
   ]
  },
  {
   "cell_type": "code",
   "execution_count": 35,
   "id": "1942c648-ca6a-47af-8609-5b407dac006f",
   "metadata": {},
   "outputs": [],
   "source": [
    "mean_likes = final_dataset['comments'].mean()\n",
    "final_dataset['comments'] = final_dataset['comments'].fillna(mean_likes)"
   ]
  },
  {
   "cell_type": "code",
   "execution_count": 36,
   "id": "e66d0e1a-db08-4e6f-a815-42cecce494f4",
   "metadata": {},
   "outputs": [
    {
     "data": {
      "text/plain": [
       "Unnamed: 0          0\n",
       "artist              0\n",
       "url_spotify         0\n",
       "title               0\n",
       "album               0\n",
       "album_type          0\n",
       "uri                 0\n",
       "danceability        0\n",
       "energy              0\n",
       "key                 0\n",
       "loudness            0\n",
       "speechiness         0\n",
       "acousticness        0\n",
       "instrumentalness    0\n",
       "liveness            0\n",
       "valence             0\n",
       "tempo               0\n",
       "duration_ms         0\n",
       "full_title          0\n",
       "channel             0\n",
       "views_x             0\n",
       "likes               0\n",
       "comments            0\n",
       "licensed            0\n",
       "official_video      0\n",
       "stream              0\n",
       "tag                 0\n",
       "year                0\n",
       "views_y             0\n",
       "features            0\n",
       "lyrics              0\n",
       "id                  0\n",
       "dtype: int64"
      ]
     },
     "execution_count": 36,
     "metadata": {},
     "output_type": "execute_result"
    }
   ],
   "source": [
    "missing_values = final_dataset.isnull().sum()\n",
    "missing_values"
   ]
  },
  {
   "cell_type": "code",
   "execution_count": 37,
   "id": "481ddde5-5473-401e-b157-0d1dd91fb99d",
   "metadata": {},
   "outputs": [
    {
     "data": {
      "text/html": [
       "<div>\n",
       "<style scoped>\n",
       "    .dataframe tbody tr th:only-of-type {\n",
       "        vertical-align: middle;\n",
       "    }\n",
       "\n",
       "    .dataframe tbody tr th {\n",
       "        vertical-align: top;\n",
       "    }\n",
       "\n",
       "    .dataframe thead th {\n",
       "        text-align: right;\n",
       "    }\n",
       "</style>\n",
       "<table border=\"1\" class=\"dataframe\">\n",
       "  <thead>\n",
       "    <tr style=\"text-align: right;\">\n",
       "      <th></th>\n",
       "      <th>Unnamed: 0</th>\n",
       "      <th>artist</th>\n",
       "      <th>url_spotify</th>\n",
       "      <th>title</th>\n",
       "      <th>album</th>\n",
       "      <th>album_type</th>\n",
       "      <th>uri</th>\n",
       "      <th>danceability</th>\n",
       "      <th>energy</th>\n",
       "      <th>key</th>\n",
       "      <th>...</th>\n",
       "      <th>comments</th>\n",
       "      <th>licensed</th>\n",
       "      <th>official_video</th>\n",
       "      <th>stream</th>\n",
       "      <th>tag</th>\n",
       "      <th>year</th>\n",
       "      <th>views_y</th>\n",
       "      <th>features</th>\n",
       "      <th>lyrics</th>\n",
       "      <th>id</th>\n",
       "    </tr>\n",
       "  </thead>\n",
       "  <tbody>\n",
       "  </tbody>\n",
       "</table>\n",
       "<p>0 rows × 32 columns</p>\n",
       "</div>"
      ],
      "text/plain": [
       "Empty DataFrame\n",
       "Columns: [Unnamed: 0, artist, url_spotify, title, album, album_type, uri, danceability, energy, key, loudness, speechiness, acousticness, instrumentalness, liveness, valence, tempo, duration_ms, full_title, channel, views_x, likes, comments, licensed, official_video, stream, tag, year, views_y, features, lyrics, id]\n",
       "Index: []\n",
       "\n",
       "[0 rows x 32 columns]"
      ]
     },
     "execution_count": 37,
     "metadata": {},
     "output_type": "execute_result"
    }
   ],
   "source": [
    "duplicates = final_dataset[final_dataset.duplicated()]\n",
    "duplicates"
   ]
  },
  {
   "cell_type": "code",
   "execution_count": 38,
   "id": "239ce460-504a-47b3-912f-9c4282b8ae6c",
   "metadata": {},
   "outputs": [],
   "source": [
    "final_dataset.drop(columns=['url_spotify'], inplace=True)"
   ]
  },
  {
   "cell_type": "code",
   "execution_count": 40,
   "id": "1226af91-08ae-409a-b3e0-02a00ac7e579",
   "metadata": {},
   "outputs": [
    {
     "name": "stdout",
     "output_type": "stream",
     "text": [
      "Index(['Unnamed: 0', 'artist', 'title', 'album', 'album_type', 'uri',\n",
      "       'danceability', 'energy', 'key', 'loudness', 'speechiness',\n",
      "       'acousticness', 'instrumentalness', 'liveness', 'valence', 'tempo',\n",
      "       'duration_ms', 'full_title', 'channel', 'views_x', 'likes', 'comments',\n",
      "       'licensed', 'official_video', 'stream', 'tag', 'year', 'views_y',\n",
      "       'features', 'lyrics', 'id'],\n",
      "      dtype='object')\n"
     ]
    }
   ],
   "source": [
    "print(final_dataset.columns)"
   ]
  },
  {
   "cell_type": "code",
   "execution_count": 41,
   "id": "17c506cd-f980-417b-9851-72db8991a3dd",
   "metadata": {},
   "outputs": [],
   "source": [
    "final_dataset.drop(columns=['Unnamed: 0'], inplace=True)"
   ]
  },
  {
   "cell_type": "code",
   "execution_count": 42,
   "id": "3e9e3cdd-3c1a-4805-8e07-86814fdf2567",
   "metadata": {},
   "outputs": [
    {
     "name": "stdout",
     "output_type": "stream",
     "text": [
      "Index(['artist', 'title', 'album', 'album_type', 'uri', 'danceability',\n",
      "       'energy', 'key', 'loudness', 'speechiness', 'acousticness',\n",
      "       'instrumentalness', 'liveness', 'valence', 'tempo', 'duration_ms',\n",
      "       'full_title', 'channel', 'views_x', 'likes', 'comments', 'licensed',\n",
      "       'official_video', 'stream', 'tag', 'year', 'views_y', 'features',\n",
      "       'lyrics', 'id'],\n",
      "      dtype='object')\n"
     ]
    }
   ],
   "source": [
    "print(final_dataset.columns)"
   ]
  },
  {
   "cell_type": "code",
   "execution_count": 43,
   "id": "a0e66ef1-bb64-48a9-8ad0-01b540d7d6a5",
   "metadata": {},
   "outputs": [],
   "source": [
    "final_dataset.to_csv('cleaned_final_dataset.csv', index=False)"
   ]
  }
 ],
 "metadata": {
  "kernelspec": {
   "display_name": "Python 3 (ipykernel)",
   "language": "python",
   "name": "python3"
  },
  "language_info": {
   "codemirror_mode": {
    "name": "ipython",
    "version": 3
   },
   "file_extension": ".py",
   "mimetype": "text/x-python",
   "name": "python",
   "nbconvert_exporter": "python",
   "pygments_lexer": "ipython3",
   "version": "3.12.1"
  }
 },
 "nbformat": 4,
 "nbformat_minor": 5
}
